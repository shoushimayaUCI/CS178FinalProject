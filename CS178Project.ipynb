{
 "cells": [
  {
   "cell_type": "markdown",
   "metadata": {
    "cell_id": "41e4c6df-c2a3-4f8e-b5eb-7a70ad671bce",
    "deepnote_cell_type": "markdown",
    "tags": []
   },
   "source": [
    "## Loading Data"
   ]
  },
  {
   "cell_type": "code",
   "execution_count": 1,
   "metadata": {
    "cell_id": "0b9b7a2b-9e8b-458b-90e1-e03933d2c995",
    "deepnote_cell_type": "code",
    "deepnote_to_be_reexecuted": false,
    "execution_millis": 6293,
    "execution_start": 1615594581465,
    "output_cleared": false,
    "source_hash": "a032f52a",
    "tags": []
   },
   "outputs": [
    {
     "name": "stdout",
     "output_type": "stream",
     "text": [
      "(180000, 14) (20000, 14) (180000,) (20000,)\n"
     ]
    }
   ],
   "source": [
    "import numpy as np\n",
    "import matplotlib.pyplot as plt\n",
    "from sklearn import metrics\n",
    "from sklearn.model_selection import train_test_split\n",
    "from sklearn.preprocessing import StandardScaler\n",
    "\n",
    "X = np.genfromtxt('X_train.txt', delimiter=None)\n",
    "Y = np.genfromtxt('Y_train.txt', delimiter=None)\n",
    "Xte = np.genfromtxt('X_test.txt', delimiter=None)\n",
    "\n",
    "Xtr, Xva, Ytr, Yva = train_test_split(X, Y, test_size = 0.1, random_state=0)\n",
    "XtrP = StandardScaler().fit_transform(Xtr)\n",
    "XvaP = StandardScaler().fit_transform(Xva)\n",
    "\n",
    "print(Xtr.shape, Xva.shape, Ytr.shape, Yva.shape)"
   ]
  },
  {
   "cell_type": "markdown",
   "metadata": {
    "cell_id": "00004-744d7f02-718a-4075-b4d8-cb901defb0a3",
    "deepnote_cell_type": "markdown",
    "tags": []
   },
   "source": [
    "## KNN"
   ]
  },
  {
   "cell_type": "code",
   "execution_count": 2,
   "metadata": {
    "cell_id": "00003-9dddd675-aa7d-49e4-8961-5102d2f1b4cf",
    "deepnote_cell_type": "code",
    "deepnote_to_be_reexecuted": false,
    "execution_millis": 0,
    "execution_start": 1615591490635,
    "source_hash": "4e690cc3",
    "tags": []
   },
   "outputs": [],
   "source": [
    "from sklearn.neighbors import KNeighborsClassifier"
   ]
  },
  {
   "cell_type": "code",
   "execution_count": 3,
   "metadata": {},
   "outputs": [
    {
     "name": "stdout",
     "output_type": "stream",
     "text": [
      "min correlation of -0.9692805658978799 at 3,13\n",
      "max correlation of 0.9456425468737583 at 0,3\n"
     ]
    }
   ],
   "source": [
    "correlations = dict([])\n",
    "for i in range(14):\n",
    "    for j in range(i+1, 14):\n",
    "        correlations[np.corrcoef(XtrP[:,i], XtrP[:,j])[0][1]] = str(i) + ',' + str(j)\n",
    "print('min correlation of', min(correlations), 'at', correlations[min(correlations)])\n",
    "print('max correlation of', max(correlations), 'at', correlations[max(correlations)])"
   ]
  },
  {
   "cell_type": "code",
   "execution_count": 4,
   "metadata": {},
   "outputs": [],
   "source": [
    "XtrKNN = XtrP[:, 0]\n",
    "XvaKNN = XvaP[:, 0]\n",
    "for i in range(1, 14):\n",
    "    if i not in [3, 13]:\n",
    "        XtrKNN = np.column_stack((XtrKNN, XtrP[:,i]))\n",
    "        XvaKNN = np.column_stack((XvaKNN, XvaP[:,i]))\n",
    "XtrKNN = np.column_stack((XtrKNN, np.multiply(-XtrP[:,3], XtrP[:,13])))\n",
    "XvaKNN = np.column_stack((XvaKNN, np.multiply(-XvaP[:,3], XvaP[:,13])))"
   ]
  },
  {
   "cell_type": "code",
   "execution_count": 5,
   "metadata": {
    "cell_id": "00002-37f804eb-81be-4d02-95e8-c8be6c3d6890",
    "deepnote_cell_type": "code",
    "deepnote_to_be_reexecuted": false,
    "execution_millis": 7010,
    "execution_start": 1615591746267,
    "source_hash": "64752db2",
    "tags": []
   },
   "outputs": [],
   "source": [
    "# for n_neighbors in [7,8,9,10,11,12,13,14,15]:\n",
    "#     neigh = KNeighborsClassifier(n_neighbors)\n",
    "#     neigh.fit(XtrKNN, Ytr)\n",
    "#     print(n_neighbors, metrics.roc_auc_score(Yva,neigh.predict_proba(XvaKNN)[:,1]))"
   ]
  },
  {
   "cell_type": "code",
   "execution_count": 6,
   "metadata": {
    "cell_id": "00004-04269d1a-fa43-4eac-9058-7edaf625f1a8",
    "deepnote_cell_type": "code",
    "deepnote_to_be_reexecuted": false,
    "execution_millis": 79417,
    "execution_start": 1615591762637,
    "source_hash": "1caabb78",
    "tags": []
   },
   "outputs": [
    {
     "name": "stdout",
     "output_type": "stream",
     "text": [
      "Training AUC 0.8269270001007643\n",
      "Validation AUC 0.731799663583667\n"
     ]
    }
   ],
   "source": [
    "neigh = KNeighborsClassifier(10)\n",
    "neigh.fit(XtrKNN, Ytr)\n",
    "print('Training AUC', metrics.roc_auc_score(Ytr,neigh.predict_proba(XtrKNN)[:,1]))\n",
    "print('Validation AUC', metrics.roc_auc_score(Yva,neigh.predict_proba(XvaKNN)[:,1]))"
   ]
  },
  {
   "cell_type": "markdown",
   "metadata": {
    "cell_id": "00005-33ec1c0b-8f20-429f-8120-f450d84aaa6b",
    "deepnote_cell_type": "markdown",
    "tags": []
   },
   "source": [
    "## Linear Model"
   ]
  },
  {
   "cell_type": "code",
   "execution_count": 7,
   "metadata": {
    "cell_id": "00008-4ad82394-6370-4a88-8054-88fea25f89b2",
    "deepnote_cell_type": "code",
    "deepnote_to_be_reexecuted": false,
    "execution_millis": 0,
    "execution_start": 1615591490636,
    "source_hash": "af35732f",
    "tags": []
   },
   "outputs": [],
   "source": [
    "from sklearn.linear_model import LogisticRegression\n",
    "from sklearn.preprocessing import PolynomialFeatures"
   ]
  },
  {
   "cell_type": "code",
   "execution_count": 8,
   "metadata": {
    "cell_id": "00007-1b2a1223-4ab8-4c55-997c-fe4b732fe3a8",
    "deepnote_cell_type": "code",
    "deepnote_to_be_reexecuted": true,
    "execution_millis": 134144,
    "source_hash": "1a0c56c5",
    "tags": []
   },
   "outputs": [
    {
     "name": "stdout",
     "output_type": "stream",
     "text": [
      "(180000, 120) (20000, 14)\n"
     ]
    }
   ],
   "source": [
    "XtrPoly = PolynomialFeatures(degree=2).fit_transform(XtrP)\n",
    "XvaPoly = PolynomialFeatures(degree=2).fit_transform(XvaP)\n",
    "\n",
    "print(XtrPoly.shape, XvaP.shape)"
   ]
  },
  {
   "cell_type": "code",
   "execution_count": 11,
   "metadata": {
    "cell_id": "00007-77ddce86-4088-42c2-9891-6042de08373d",
    "deepnote_cell_type": "code",
    "deepnote_to_be_reexecuted": true,
    "execution_millis": 110970,
    "source_hash": "2d2468f2",
    "tags": []
   },
   "outputs": [
    {
     "data": {
      "text/plain": [
       "LogisticRegression(max_iter=5000)"
      ]
     },
     "execution_count": 11,
     "metadata": {},
     "output_type": "execute_result"
    }
   ],
   "source": [
    "lr = LogisticRegression(tol=1e-4, max_iter=5000)\n",
    "lr.fit(XtrPoly, Ytr)"
   ]
  },
  {
   "cell_type": "code",
   "execution_count": 12,
   "metadata": {
    "cell_id": "00009-0c8f30d7-1a6f-4c71-967a-2b85262d2a15",
    "deepnote_cell_type": "code",
    "deepnote_to_be_reexecuted": true,
    "execution_millis": 224,
    "source_hash": "9d47296e",
    "tags": []
   },
   "outputs": [
    {
     "name": "stdout",
     "output_type": "stream",
     "text": [
      "Training AUC: 0.6811936251633213\n",
      "Validation AUC: 0.6818634463949991\n"
     ]
    }
   ],
   "source": [
    "print(\"Training AUC:\", metrics.roc_auc_score(Ytr, lr.predict_proba(XtrPoly)[:,1]))\n",
    "print(\"Validation AUC:\", metrics.roc_auc_score(Yva, lr.predict_proba(XvaPoly)[:,1]))"
   ]
  },
  {
   "cell_type": "markdown",
   "metadata": {
    "cell_id": "00008-e7479013-2882-4cb5-8b59-c34414daa3ec",
    "deepnote_cell_type": "markdown",
    "tags": []
   },
   "source": [
    "## Random Forests"
   ]
  },
  {
   "cell_type": "code",
   "execution_count": 6,
   "metadata": {
    "cell_id": "00013-57c7651a-d315-4bac-a601-8ae3d8386eb5",
    "deepnote_cell_type": "code",
    "deepnote_to_be_reexecuted": false,
    "execution_millis": 31,
    "execution_start": 1615591695079,
    "source_hash": "39ef4b5b",
    "tags": []
   },
   "outputs": [],
   "source": [
    "from sklearn.ensemble import RandomForestClassifier"
   ]
  },
  {
   "cell_type": "code",
   "execution_count": 7,
   "metadata": {
    "cell_id": "00015-655af656-5bfc-428c-8580-8e97d0dd06e9",
    "deepnote_cell_type": "code",
    "deepnote_to_be_reexecuted": false,
    "execution_millis": 113327,
    "execution_start": 1615591842053,
    "source_hash": "7ea19c34",
    "tags": []
   },
   "outputs": [
    {
     "data": {
      "text/plain": [
       "RandomForestClassifier(max_depth=35, max_features=4, min_samples_leaf=4,\n",
       "                       min_samples_split=4, n_estimators=500)"
      ]
     },
     "execution_count": 7,
     "metadata": {},
     "output_type": "execute_result"
    }
   ],
   "source": [
    "rf = RandomForestClassifier(n_estimators=500, max_depth=35, min_samples_leaf=4, min_samples_split = 4, max_features=4)\n",
    "rf.fit(XtrP, Ytr)"
   ]
  },
  {
   "cell_type": "code",
   "execution_count": 8,
   "metadata": {
    "cell_id": "00017-d692efd1-1df3-4000-90c8-cf21bc7f5226",
    "deepnote_cell_type": "code",
    "deepnote_to_be_reexecuted": false,
    "execution_millis": 12482,
    "execution_start": 1615591955373,
    "source_hash": "59493bf0",
    "tags": []
   },
   "outputs": [
    {
     "name": "stdout",
     "output_type": "stream",
     "text": [
      "Training AUC: 0.952404273127158\n",
      "Validation AUC: 0.7871700963858093\n"
     ]
    }
   ],
   "source": [
    "print(\"Training AUC:\", metrics.roc_auc_score(Ytr, rf.predict_proba(XtrP)[:,1]))\n",
    "print(\"Validation AUC:\", metrics.roc_auc_score(Yva, rf.predict_proba(XvaP)[:,1]))"
   ]
  },
  {
   "cell_type": "markdown",
   "metadata": {
    "cell_id": "00017-3070b8ae-15b0-4de2-822d-1a02d5674c01",
    "deepnote_cell_type": "markdown",
    "tags": []
   },
   "source": [
    "    100 estimators, max_depth=30: 0.7556847954460596\n",
    "    100 estimators, max_depth=30, min_samples_split=4: 0.7676214147735156\n",
    "    100 estimators, max_depth=30, min_samples_leaf=4: 0.7796876858950488\n",
    "    100 estimators, min_samples_leaf=3, min_samples_split = 3, max_features=2,0.7796945078531264\n",
    "    100 estimators, min_samples_leaf=3, min_samples_split = 3, max_features=3,0.7837683270635156\n",
    "    100 estimators, min_samples_leaf=4, min_samples_split = 4, max_features=4,0.7850483251095345\n",
    "    100 estimators, min_samples_leaf=5, min_samples_split = 5, max_features=4,0.7843246789470857\n",
    "    100 estimators, min_samples_leaf=5, min_samples_split = 5, max_features=5,0.7836942830214536\n"
   ]
  },
  {
   "cell_type": "markdown",
   "metadata": {
    "cell_id": "00010-c2ba71e3-82a5-4e54-b12e-1f5bd6afa1a6",
    "deepnote_cell_type": "markdown",
    "tags": []
   },
   "source": [
    "## Boosted Learners"
   ]
  },
  {
   "cell_type": "code",
   "execution_count": 17,
   "metadata": {
    "cell_id": "00017-4a70760c-23da-4d7d-915c-5555915c4e97",
    "deepnote_cell_type": "code",
    "deepnote_to_be_reexecuted": false,
    "execution_millis": 1,
    "execution_start": 1615591710208,
    "source_hash": "532d99c7",
    "tags": []
   },
   "outputs": [],
   "source": [
    "from sklearn.ensemble import AdaBoostClassifier\n",
    "from sklearn.tree import DecisionTreeClassifier\n",
    "from lightgbm import LGBMClassifier"
   ]
  },
  {
   "cell_type": "code",
   "execution_count": 21,
   "metadata": {
    "cell_id": "00018-237081eb-d3b8-49fd-b20a-f0804adb82be",
    "deepnote_cell_type": "code",
    "deepnote_to_be_reexecuted": false,
    "execution_millis": 164004,
    "execution_start": 1615591967860,
    "source_hash": "d3d07bc8",
    "tags": []
   },
   "outputs": [
    {
     "name": "stdout",
     "output_type": "stream",
     "text": [
      "4000 50 1 Validation AUC: 0.7846730722253169\n",
      "4000 50 2 Validation AUC: 0.784184030568597\n",
      "4000 50 4 Validation AUC: 0.7833061076928735\n",
      "4000 75 1 Validation AUC: 0.7846730722253169\n",
      "4000 75 2 Validation AUC: 0.7841835780281874\n",
      "4000 75 4 Validation AUC: 0.783529839256322\n",
      "4000 100 1 Validation AUC: 0.7846730722253169\n",
      "4000 100 2 Validation AUC: 0.7841835780281874\n",
      "4000 100 4 Validation AUC: 0.783529839256322\n",
      "4000 125 1 Validation AUC: 0.7846730722253169\n",
      "4000 125 2 Validation AUC: 0.7841835780281874\n",
      "4000 125 4 Validation AUC: 0.783529839256322\n",
      "4300 50 1 Validation AUC: 0.7840812983768457\n",
      "4300 50 2 Validation AUC: 0.7839019212923176\n",
      "4300 50 4 Validation AUC: 0.7832117971677681\n",
      "4300 75 1 Validation AUC: 0.7840812983768457\n",
      "4300 75 2 Validation AUC: 0.7839004753705214\n",
      "4300 75 4 Validation AUC: 0.78312128908586\n",
      "4300 100 1 Validation AUC: 0.7840812983768457\n",
      "4300 100 2 Validation AUC: 0.7839004753705214\n",
      "4300 100 4 Validation AUC: 0.78312128908586\n",
      "4300 125 1 Validation AUC: 0.7840812983768457\n",
      "4300 125 2 Validation AUC: 0.7839004753705214\n",
      "4300 125 4 Validation AUC: 0.78312128908586\n",
      "4650 50 1 Validation AUC: 0.7833093085884532\n",
      "4650 50 2 Validation AUC: 0.7832497995245986\n",
      "4650 50 4 Validation AUC: 0.7842770883293978\n",
      "4650 75 1 Validation AUC: 0.7834288289256414\n",
      "4650 75 2 Validation AUC: 0.7832497995245986\n",
      "4650 75 4 Validation AUC: 0.7842770883293978\n",
      "4650 100 1 Validation AUC: 0.7834288289256414\n",
      "4650 100 2 Validation AUC: 0.7832497995245986\n",
      "4650 100 4 Validation AUC: 0.7842770883293978\n",
      "4650 125 1 Validation AUC: 0.7834288289256414\n",
      "4650 125 2 Validation AUC: 0.7832497995245986\n",
      "4650 125 4 Validation AUC: 0.7842770883293978\n"
     ]
    }
   ],
   "source": [
    "# num_leaves = [3300, 3650, 4000, 4300, 4650]\n",
    "# min_child_samples = [1, 2, 4]\n",
    "# for n in num_leaves:\n",
    "#     for m in min_child_samples:\n",
    "#         lgbm = LGBMClassifier(num_leaves=n, learning_rate=0.01, min_child_samples=m, n_estimators=200)\n",
    "#         lgbm.fit(XtrP, Ytr)\n",
    "#         print(n,m,\"Validation AUC:\", metrics.roc_auc_score(Yva, lgbm.predict_proba(XvaP)[:,1]))\n",
    "\n",
    "# max_depths = [50, 75, 100, 125]\n",
    "# min_child_samples = [1, 2, 4]\n",
    "# for n in num_leaves:\n",
    "#     for d in max_depths:\n",
    "#         for m in min_child_samples:\n",
    "#             lgbm = LGBMClassifier(num_leaves=n, max_depth=d, learning_rate=0.01, min_child_samples=m, n_estimators=200)\n",
    "#             lgbm.fit(XtrP, Ytr)\n",
    "#             print(n,d,m,\"Validation AUC:\", metrics.roc_auc_score(Yva, lgbm.predict_proba(XvaP)[:,1]))"
   ]
  },
  {
   "cell_type": "code",
   "execution_count": 18,
   "metadata": {
    "cell_id": "00019-f78b3815-f53c-426b-ab73-514186596265",
    "deepnote_cell_type": "code",
    "deepnote_to_be_reexecuted": false,
    "execution_millis": 3816,
    "execution_start": 1615592131857,
    "source_hash": "e6aaf49d",
    "tags": []
   },
   "outputs": [
    {
     "name": "stdout",
     "output_type": "stream",
     "text": [
      "Training AUC: 0.9771825304995541\n",
      "Validation AUC: 0.7982248307730657\n"
     ]
    }
   ],
   "source": [
    "lgbm = LGBMClassifier(num_leaves=1000, learning_rate=0.01, min_child_samples=1, n_estimators=2000)\n",
    "lgbm.fit(XtrP, Ytr)\n",
    "print(\"Training AUC:\", metrics.roc_auc_score(Ytr, lgbm.predict_proba(XtrP)[:,1]))\n",
    "print(\"Validation AUC:\", metrics.roc_auc_score(Yva, lgbm.predict_proba(XvaP)[:,1]))"
   ]
  },
  {
   "cell_type": "markdown",
   "metadata": {
    "cell_id": "00019-97bc0927-abbc-490a-a9fa-a17341c9ca03",
    "deepnote_cell_type": "markdown",
    "tags": []
   },
   "source": [
    "    num_leaves=4000, min_child_samples=1: 0.9822267654079306, 0.7880581959019618\n"
   ]
  },
  {
   "cell_type": "markdown",
   "metadata": {
    "cell_id": "00013-978096f8-b3fb-4b66-a6aa-b60a7ae6d283",
    "deepnote_cell_type": "markdown",
    "tags": []
   },
   "source": [
    "## Neural Networks"
   ]
  },
  {
   "cell_type": "code",
   "execution_count": 22,
   "metadata": {
    "scrolled": true
   },
   "outputs": [
    {
     "name": "stdout",
     "output_type": "stream",
     "text": [
      "Epoch 1/200\n",
      "1407/1407 - 2s - loss: 0.5997 - accuracy: 0.6909\n",
      "Epoch 2/200\n",
      "1407/1407 - 2s - loss: 0.5898 - accuracy: 0.6976\n",
      "Epoch 3/200\n",
      "1407/1407 - 2s - loss: 0.5843 - accuracy: 0.7017\n",
      "Epoch 4/200\n",
      "1407/1407 - 2s - loss: 0.5807 - accuracy: 0.7038\n",
      "Epoch 5/200\n",
      "1407/1407 - 2s - loss: 0.5778 - accuracy: 0.7065\n",
      "Epoch 6/200\n",
      "1407/1407 - 2s - loss: 0.5748 - accuracy: 0.7076\n",
      "Epoch 7/200\n",
      "1407/1407 - 2s - loss: 0.5723 - accuracy: 0.7093\n",
      "Epoch 8/200\n",
      "1407/1407 - 2s - loss: 0.5700 - accuracy: 0.7109\n",
      "Epoch 9/200\n",
      "1407/1407 - 2s - loss: 0.5675 - accuracy: 0.7125\n",
      "Epoch 10/200\n",
      "1407/1407 - 2s - loss: 0.5654 - accuracy: 0.7139\n",
      "Epoch 11/200\n",
      "1407/1407 - 2s - loss: 0.5629 - accuracy: 0.7160\n",
      "Epoch 12/200\n",
      "1407/1407 - 2s - loss: 0.5609 - accuracy: 0.7168\n",
      "Epoch 13/200\n",
      "1407/1407 - 2s - loss: 0.5593 - accuracy: 0.7175\n",
      "Epoch 14/200\n",
      "1407/1407 - 2s - loss: 0.5572 - accuracy: 0.7192\n",
      "Epoch 15/200\n",
      "1407/1407 - 2s - loss: 0.5556 - accuracy: 0.7201\n",
      "Epoch 16/200\n",
      "1407/1407 - 2s - loss: 0.5538 - accuracy: 0.7216\n",
      "Epoch 17/200\n",
      "1407/1407 - 2s - loss: 0.5521 - accuracy: 0.7227\n",
      "Epoch 18/200\n",
      "1407/1407 - 2s - loss: 0.5503 - accuracy: 0.7242\n",
      "Epoch 19/200\n",
      "1407/1407 - 2s - loss: 0.5492 - accuracy: 0.7237\n",
      "Epoch 20/200\n",
      "1407/1407 - 2s - loss: 0.5473 - accuracy: 0.7254\n",
      "Epoch 21/200\n",
      "1407/1407 - 2s - loss: 0.5459 - accuracy: 0.7264\n",
      "Epoch 22/200\n",
      "1407/1407 - 2s - loss: 0.5448 - accuracy: 0.7271\n",
      "Epoch 23/200\n",
      "1407/1407 - 5s - loss: 0.5435 - accuracy: 0.7269\n",
      "Epoch 24/200\n",
      "1407/1407 - 3s - loss: 0.5422 - accuracy: 0.7285\n",
      "Epoch 25/200\n",
      "1407/1407 - 3s - loss: 0.5407 - accuracy: 0.7296\n",
      "Epoch 26/200\n",
      "1407/1407 - 6s - loss: 0.5400 - accuracy: 0.7298\n",
      "Epoch 27/200\n",
      "1407/1407 - 4s - loss: 0.5384 - accuracy: 0.7309\n",
      "Epoch 28/200\n",
      "1407/1407 - 4s - loss: 0.5375 - accuracy: 0.7307\n",
      "Epoch 29/200\n",
      "1407/1407 - 3s - loss: 0.5361 - accuracy: 0.7321\n",
      "Epoch 30/200\n",
      "1407/1407 - 4s - loss: 0.5351 - accuracy: 0.7323\n",
      "Epoch 31/200\n",
      "1407/1407 - 3s - loss: 0.5341 - accuracy: 0.7332\n",
      "Epoch 32/200\n",
      "1407/1407 - 4s - loss: 0.5326 - accuracy: 0.7337\n",
      "Epoch 33/200\n",
      "1407/1407 - 4s - loss: 0.5316 - accuracy: 0.7341\n",
      "Epoch 34/200\n",
      "1407/1407 - 3s - loss: 0.5308 - accuracy: 0.7346\n",
      "Epoch 35/200\n",
      "1407/1407 - 3s - loss: 0.5295 - accuracy: 0.7361\n",
      "Epoch 36/200\n",
      "1407/1407 - 3s - loss: 0.5287 - accuracy: 0.7357\n",
      "Epoch 37/200\n",
      "1407/1407 - 3s - loss: 0.5279 - accuracy: 0.7362\n",
      "Epoch 38/200\n",
      "1407/1407 - 3s - loss: 0.5265 - accuracy: 0.7369\n",
      "Epoch 39/200\n",
      "1407/1407 - 3s - loss: 0.5254 - accuracy: 0.7386\n",
      "Epoch 40/200\n",
      "1407/1407 - 2s - loss: 0.5246 - accuracy: 0.7378\n",
      "Epoch 41/200\n",
      "1407/1407 - 3s - loss: 0.5236 - accuracy: 0.7390\n",
      "Epoch 42/200\n",
      "1407/1407 - 2s - loss: 0.5230 - accuracy: 0.7401\n",
      "Epoch 43/200\n",
      "1407/1407 - 3s - loss: 0.5218 - accuracy: 0.7397\n",
      "Epoch 44/200\n",
      "1407/1407 - 2s - loss: 0.5208 - accuracy: 0.7414\n",
      "Epoch 45/200\n",
      "1407/1407 - 3s - loss: 0.5204 - accuracy: 0.7402\n",
      "Epoch 46/200\n",
      "1407/1407 - 2s - loss: 0.5193 - accuracy: 0.7420\n",
      "Epoch 47/200\n",
      "1407/1407 - 2s - loss: 0.5182 - accuracy: 0.7425\n",
      "Epoch 48/200\n",
      "1407/1407 - 2s - loss: 0.5173 - accuracy: 0.7424\n",
      "Epoch 49/200\n",
      "1407/1407 - 2s - loss: 0.5168 - accuracy: 0.7441\n",
      "Epoch 50/200\n",
      "1407/1407 - 2s - loss: 0.5156 - accuracy: 0.7429\n",
      "Epoch 51/200\n",
      "1407/1407 - 2s - loss: 0.5147 - accuracy: 0.7442\n",
      "Epoch 52/200\n",
      "1407/1407 - 2s - loss: 0.5142 - accuracy: 0.7445\n",
      "Epoch 53/200\n",
      "1407/1407 - 2s - loss: 0.5132 - accuracy: 0.7447\n",
      "Epoch 54/200\n",
      "1407/1407 - 2s - loss: 0.5126 - accuracy: 0.7453\n",
      "Epoch 55/200\n",
      "1407/1407 - 3s - loss: 0.5118 - accuracy: 0.7451\n",
      "Epoch 56/200\n",
      "1407/1407 - 3s - loss: 0.5115 - accuracy: 0.7459\n",
      "Epoch 57/200\n",
      "1407/1407 - 2s - loss: 0.5100 - accuracy: 0.7473\n",
      "Epoch 58/200\n",
      "1407/1407 - 2s - loss: 0.5099 - accuracy: 0.7472\n",
      "Epoch 59/200\n",
      "1407/1407 - 2s - loss: 0.5092 - accuracy: 0.7467\n",
      "Epoch 60/200\n",
      "1407/1407 - 2s - loss: 0.5083 - accuracy: 0.7482\n",
      "Epoch 61/200\n",
      "1407/1407 - 2s - loss: 0.5078 - accuracy: 0.7485\n",
      "Epoch 62/200\n",
      "1407/1407 - 2s - loss: 0.5070 - accuracy: 0.7493\n",
      "Epoch 63/200\n",
      "1407/1407 - 2s - loss: 0.5065 - accuracy: 0.7494\n",
      "Epoch 64/200\n",
      "1407/1407 - 2s - loss: 0.5057 - accuracy: 0.7492\n",
      "Epoch 65/200\n",
      "1407/1407 - 2s - loss: 0.5048 - accuracy: 0.7504\n",
      "Epoch 66/200\n",
      "1407/1407 - 2s - loss: 0.5041 - accuracy: 0.7498\n",
      "Epoch 67/200\n",
      "1407/1407 - 2s - loss: 0.5036 - accuracy: 0.7512\n",
      "Epoch 68/200\n",
      "1407/1407 - 2s - loss: 0.5030 - accuracy: 0.7514\n",
      "Epoch 69/200\n",
      "1407/1407 - 2s - loss: 0.5026 - accuracy: 0.7512\n",
      "Epoch 70/200\n",
      "1407/1407 - 2s - loss: 0.5018 - accuracy: 0.7516\n",
      "Epoch 71/200\n",
      "1407/1407 - 2s - loss: 0.5009 - accuracy: 0.7520\n",
      "Epoch 72/200\n",
      "1407/1407 - 2s - loss: 0.5006 - accuracy: 0.7525\n",
      "Epoch 73/200\n",
      "1407/1407 - 2s - loss: 0.5004 - accuracy: 0.7523\n",
      "Epoch 74/200\n",
      "1407/1407 - 2s - loss: 0.4988 - accuracy: 0.7537\n",
      "Epoch 75/200\n",
      "1407/1407 - 2s - loss: 0.4986 - accuracy: 0.7538\n",
      "Epoch 76/200\n",
      "1407/1407 - 2s - loss: 0.4983 - accuracy: 0.7546\n",
      "Epoch 77/200\n",
      "1407/1407 - 2s - loss: 0.4978 - accuracy: 0.7534\n",
      "Epoch 78/200\n",
      "1407/1407 - 2s - loss: 0.4966 - accuracy: 0.7545\n",
      "Epoch 79/200\n",
      "1407/1407 - 2s - loss: 0.4965 - accuracy: 0.7541\n",
      "Epoch 80/200\n",
      "1407/1407 - 2s - loss: 0.4957 - accuracy: 0.7548\n",
      "Epoch 81/200\n",
      "1407/1407 - 2s - loss: 0.4946 - accuracy: 0.7549\n",
      "Epoch 82/200\n",
      "1407/1407 - 2s - loss: 0.4947 - accuracy: 0.7557\n",
      "Epoch 83/200\n",
      "1407/1407 - 2s - loss: 0.4937 - accuracy: 0.7556\n",
      "Epoch 84/200\n",
      "1407/1407 - 2s - loss: 0.4933 - accuracy: 0.7563\n",
      "Epoch 85/200\n",
      "1407/1407 - 2s - loss: 0.4936 - accuracy: 0.7568\n",
      "Epoch 86/200\n",
      "1407/1407 - 2s - loss: 0.4930 - accuracy: 0.7564\n",
      "Epoch 87/200\n",
      "1407/1407 - 2s - loss: 0.4926 - accuracy: 0.7565\n",
      "Epoch 88/200\n",
      "1407/1407 - 2s - loss: 0.4920 - accuracy: 0.7576\n",
      "Epoch 89/200\n",
      "1407/1407 - 2s - loss: 0.4913 - accuracy: 0.7575\n",
      "Epoch 90/200\n",
      "1407/1407 - 2s - loss: 0.4906 - accuracy: 0.7582\n",
      "Epoch 91/200\n",
      "1407/1407 - 2s - loss: 0.4897 - accuracy: 0.7578\n",
      "Epoch 92/200\n",
      "1407/1407 - 2s - loss: 0.4897 - accuracy: 0.7574\n",
      "Epoch 93/200\n",
      "1407/1407 - 2s - loss: 0.4895 - accuracy: 0.7583\n",
      "Epoch 94/200\n",
      "1407/1407 - 2s - loss: 0.4882 - accuracy: 0.7596\n",
      "Epoch 95/200\n",
      "1407/1407 - 2s - loss: 0.4883 - accuracy: 0.7598\n",
      "Epoch 96/200\n",
      "1407/1407 - 2s - loss: 0.4880 - accuracy: 0.7591\n",
      "Epoch 97/200\n",
      "1407/1407 - 2s - loss: 0.4874 - accuracy: 0.7590\n",
      "Epoch 98/200\n",
      "1407/1407 - 2s - loss: 0.4868 - accuracy: 0.7603\n",
      "Epoch 99/200\n",
      "1407/1407 - 2s - loss: 0.4860 - accuracy: 0.7607\n",
      "Epoch 100/200\n",
      "1407/1407 - 2s - loss: 0.4856 - accuracy: 0.7611\n",
      "Epoch 101/200\n",
      "1407/1407 - 2s - loss: 0.4857 - accuracy: 0.7608\n",
      "Epoch 102/200\n",
      "1407/1407 - 2s - loss: 0.4849 - accuracy: 0.7609\n",
      "Epoch 103/200\n",
      "1407/1407 - 2s - loss: 0.4844 - accuracy: 0.7617\n",
      "Epoch 104/200\n",
      "1407/1407 - 2s - loss: 0.4848 - accuracy: 0.7611\n",
      "Epoch 105/200\n",
      "1407/1407 - 2s - loss: 0.4836 - accuracy: 0.7622\n",
      "Epoch 106/200\n",
      "1407/1407 - 2s - loss: 0.4838 - accuracy: 0.7620\n",
      "Epoch 107/200\n",
      "1407/1407 - 2s - loss: 0.4829 - accuracy: 0.7627\n",
      "Epoch 108/200\n",
      "1407/1407 - 2s - loss: 0.4830 - accuracy: 0.7621\n",
      "Epoch 109/200\n",
      "1407/1407 - 2s - loss: 0.4827 - accuracy: 0.7626\n",
      "Epoch 110/200\n",
      "1407/1407 - 2s - loss: 0.4819 - accuracy: 0.7627\n",
      "Epoch 111/200\n",
      "1407/1407 - 2s - loss: 0.4806 - accuracy: 0.7624\n",
      "Epoch 112/200\n",
      "1407/1407 - 2s - loss: 0.4810 - accuracy: 0.7627\n",
      "Epoch 113/200\n",
      "1407/1407 - 2s - loss: 0.4808 - accuracy: 0.7636\n",
      "Epoch 114/200\n",
      "1407/1407 - 2s - loss: 0.4800 - accuracy: 0.7637\n",
      "Epoch 115/200\n",
      "1407/1407 - 2s - loss: 0.4799 - accuracy: 0.7632\n",
      "Epoch 116/200\n",
      "1407/1407 - 2s - loss: 0.4790 - accuracy: 0.7648\n",
      "Epoch 117/200\n",
      "1407/1407 - 2s - loss: 0.4788 - accuracy: 0.7638\n",
      "Epoch 118/200\n",
      "1407/1407 - 2s - loss: 0.4783 - accuracy: 0.7639\n",
      "Epoch 119/200\n",
      "1407/1407 - 2s - loss: 0.4777 - accuracy: 0.7648\n",
      "Epoch 120/200\n",
      "1407/1407 - 2s - loss: 0.4774 - accuracy: 0.7655\n",
      "Epoch 121/200\n",
      "1407/1407 - 2s - loss: 0.4774 - accuracy: 0.7648\n",
      "Epoch 122/200\n",
      "1407/1407 - 2s - loss: 0.4772 - accuracy: 0.7655\n",
      "Epoch 123/200\n",
      "1407/1407 - 2s - loss: 0.4765 - accuracy: 0.7653\n",
      "Epoch 124/200\n",
      "1407/1407 - 2s - loss: 0.4758 - accuracy: 0.7663\n",
      "Epoch 125/200\n",
      "1407/1407 - 2s - loss: 0.4757 - accuracy: 0.7654\n",
      "Epoch 126/200\n",
      "1407/1407 - 2s - loss: 0.4754 - accuracy: 0.7653\n",
      "Epoch 127/200\n",
      "1407/1407 - 2s - loss: 0.4744 - accuracy: 0.7671\n",
      "Epoch 128/200\n",
      "1407/1407 - 2s - loss: 0.4747 - accuracy: 0.7663\n",
      "Epoch 129/200\n",
      "1407/1407 - 2s - loss: 0.4740 - accuracy: 0.7669\n",
      "Epoch 130/200\n",
      "1407/1407 - 2s - loss: 0.4735 - accuracy: 0.7669\n",
      "Epoch 131/200\n",
      "1407/1407 - 2s - loss: 0.4734 - accuracy: 0.7672\n",
      "Epoch 132/200\n",
      "1407/1407 - 2s - loss: 0.4735 - accuracy: 0.7671\n"
     ]
    },
    {
     "name": "stdout",
     "output_type": "stream",
     "text": [
      "Epoch 133/200\n",
      "1407/1407 - 2s - loss: 0.4733 - accuracy: 0.7674\n",
      "Epoch 134/200\n",
      "1407/1407 - 2s - loss: 0.4728 - accuracy: 0.7679\n",
      "Epoch 135/200\n",
      "1407/1407 - 2s - loss: 0.4723 - accuracy: 0.7681\n",
      "Epoch 136/200\n",
      "1407/1407 - 2s - loss: 0.4720 - accuracy: 0.7689\n",
      "Epoch 137/200\n",
      "1407/1407 - 2s - loss: 0.4715 - accuracy: 0.7682\n",
      "Epoch 138/200\n",
      "1407/1407 - 2s - loss: 0.4718 - accuracy: 0.7678\n",
      "Epoch 139/200\n",
      "1407/1407 - 2s - loss: 0.4709 - accuracy: 0.7686\n",
      "Epoch 140/200\n",
      "1407/1407 - 2s - loss: 0.4711 - accuracy: 0.7681\n",
      "Epoch 141/200\n",
      "1407/1407 - 2s - loss: 0.4698 - accuracy: 0.7694\n",
      "Epoch 142/200\n",
      "1407/1407 - 2s - loss: 0.4698 - accuracy: 0.7688\n",
      "Epoch 143/200\n",
      "1407/1407 - 2s - loss: 0.4692 - accuracy: 0.7689\n",
      "Epoch 144/200\n",
      "1407/1407 - 2s - loss: 0.4698 - accuracy: 0.7692\n",
      "Epoch 145/200\n",
      "1407/1407 - 2s - loss: 0.4685 - accuracy: 0.7687\n",
      "Epoch 146/200\n",
      "1407/1407 - 2s - loss: 0.4688 - accuracy: 0.7695\n",
      "Epoch 147/200\n",
      "1407/1407 - 2s - loss: 0.4682 - accuracy: 0.7695\n",
      "Epoch 148/200\n",
      "1407/1407 - 2s - loss: 0.4681 - accuracy: 0.7697\n",
      "Epoch 149/200\n",
      "1407/1407 - 2s - loss: 0.4676 - accuracy: 0.7709\n",
      "Epoch 150/200\n",
      "1407/1407 - 2s - loss: 0.4675 - accuracy: 0.7700\n",
      "Epoch 151/200\n",
      "1407/1407 - 2s - loss: 0.4677 - accuracy: 0.7703\n",
      "Epoch 152/200\n",
      "1407/1407 - 2s - loss: 0.4670 - accuracy: 0.7703\n",
      "Epoch 153/200\n",
      "1407/1407 - 2s - loss: 0.4667 - accuracy: 0.7708\n",
      "Epoch 154/200\n",
      "1407/1407 - 2s - loss: 0.4662 - accuracy: 0.7710\n",
      "Epoch 155/200\n",
      "1407/1407 - 2s - loss: 0.4661 - accuracy: 0.7711\n",
      "Epoch 156/200\n",
      "1407/1407 - 2s - loss: 0.4659 - accuracy: 0.7707\n",
      "Epoch 157/200\n",
      "1407/1407 - 2s - loss: 0.4646 - accuracy: 0.7722\n",
      "Epoch 158/200\n",
      "1407/1407 - 2s - loss: 0.4649 - accuracy: 0.7716\n",
      "Epoch 159/200\n",
      "1407/1407 - 2s - loss: 0.4650 - accuracy: 0.7712\n",
      "Epoch 160/200\n",
      "1407/1407 - 2s - loss: 0.4647 - accuracy: 0.7713\n",
      "Epoch 161/200\n",
      "1407/1407 - 2s - loss: 0.4644 - accuracy: 0.7709\n",
      "Epoch 162/200\n",
      "1407/1407 - 2s - loss: 0.4638 - accuracy: 0.7716\n",
      "Epoch 163/200\n",
      "1407/1407 - 2s - loss: 0.4632 - accuracy: 0.7723\n",
      "Epoch 164/200\n",
      "1407/1407 - 2s - loss: 0.4638 - accuracy: 0.7729\n",
      "Epoch 165/200\n",
      "1407/1407 - 2s - loss: 0.4634 - accuracy: 0.7727\n",
      "Epoch 166/200\n",
      "1407/1407 - 2s - loss: 0.4632 - accuracy: 0.7729\n",
      "Epoch 167/200\n",
      "1407/1407 - 2s - loss: 0.4627 - accuracy: 0.7728\n",
      "Epoch 168/200\n",
      "1407/1407 - 2s - loss: 0.4621 - accuracy: 0.7728\n",
      "Epoch 169/200\n",
      "1407/1407 - 2s - loss: 0.4620 - accuracy: 0.7732\n",
      "Epoch 170/200\n",
      "1407/1407 - 2s - loss: 0.4622 - accuracy: 0.7736\n",
      "Epoch 171/200\n",
      "1407/1407 - 2s - loss: 0.4615 - accuracy: 0.7729\n",
      "Epoch 172/200\n",
      "1407/1407 - 2s - loss: 0.4608 - accuracy: 0.7730\n",
      "Epoch 173/200\n",
      "1407/1407 - 2s - loss: 0.4610 - accuracy: 0.7732\n",
      "Epoch 174/200\n",
      "1407/1407 - 2s - loss: 0.4605 - accuracy: 0.7731\n",
      "Epoch 175/200\n",
      "1407/1407 - 2s - loss: 0.4603 - accuracy: 0.7739\n",
      "Epoch 176/200\n",
      "1407/1407 - 2s - loss: 0.4595 - accuracy: 0.7746\n",
      "Epoch 177/200\n",
      "1407/1407 - 2s - loss: 0.4598 - accuracy: 0.7737\n",
      "Epoch 178/200\n",
      "1407/1407 - 2s - loss: 0.4597 - accuracy: 0.7746\n",
      "Epoch 179/200\n",
      "1407/1407 - 2s - loss: 0.4596 - accuracy: 0.7747\n",
      "Epoch 180/200\n",
      "1407/1407 - 2s - loss: 0.4598 - accuracy: 0.7745\n",
      "Epoch 181/200\n",
      "1407/1407 - 2s - loss: 0.4580 - accuracy: 0.7751\n",
      "Epoch 182/200\n",
      "1407/1407 - 2s - loss: 0.4589 - accuracy: 0.7749\n",
      "Epoch 183/200\n",
      "1407/1407 - 2s - loss: 0.4587 - accuracy: 0.7746\n",
      "Epoch 184/200\n",
      "1407/1407 - 2s - loss: 0.4580 - accuracy: 0.7749\n",
      "Epoch 185/200\n",
      "1407/1407 - 2s - loss: 0.4574 - accuracy: 0.7756\n",
      "Epoch 186/200\n",
      "1407/1407 - 2s - loss: 0.4577 - accuracy: 0.7757\n",
      "Epoch 187/200\n",
      "1407/1407 - 2s - loss: 0.4572 - accuracy: 0.7757\n",
      "Epoch 188/200\n",
      "1407/1407 - 2s - loss: 0.4567 - accuracy: 0.7755\n",
      "Epoch 189/200\n",
      "1407/1407 - 2s - loss: 0.4563 - accuracy: 0.7761\n",
      "Epoch 190/200\n",
      "1407/1407 - 2s - loss: 0.4566 - accuracy: 0.7757\n",
      "Epoch 191/200\n",
      "1407/1407 - 2s - loss: 0.4566 - accuracy: 0.7752\n",
      "Epoch 192/200\n",
      "1407/1407 - 2s - loss: 0.4558 - accuracy: 0.7760\n",
      "Epoch 193/200\n",
      "1407/1407 - 2s - loss: 0.4561 - accuracy: 0.7769\n",
      "Epoch 194/200\n",
      "1407/1407 - 2s - loss: 0.4554 - accuracy: 0.7770\n",
      "Epoch 195/200\n",
      "1407/1407 - 2s - loss: 0.4552 - accuracy: 0.7771\n",
      "Epoch 196/200\n",
      "1407/1407 - 2s - loss: 0.4547 - accuracy: 0.7768\n",
      "Epoch 197/200\n",
      "1407/1407 - 2s - loss: 0.4545 - accuracy: 0.7763\n",
      "Epoch 198/200\n",
      "1407/1407 - 2s - loss: 0.4547 - accuracy: 0.7770\n",
      "Epoch 199/200\n",
      "1407/1407 - 2s - loss: 0.4544 - accuracy: 0.7772\n",
      "Epoch 200/200\n",
      "1407/1407 - 2s - loss: 0.4552 - accuracy: 0.7765\n"
     ]
    },
    {
     "data": {
      "text/plain": [
       "<tensorflow.python.keras.callbacks.History at 0x23a0ec71988>"
      ]
     },
     "execution_count": 22,
     "metadata": {},
     "output_type": "execute_result"
    }
   ],
   "source": [
    "from tensorflow.keras import Sequential\n",
    "from tensorflow.keras.layers import Dense\n",
    "\n",
    "n_features = XtrP.shape[1]\n",
    "# define model\n",
    "nn = Sequential()\n",
    "nn.add(Dense(500, activation='relu', kernel_initializer='he_normal', input_shape=(n_features,)))\n",
    "nn.add(Dense(100, activation='relu', kernel_initializer='he_normal'))\n",
    "nn.add(Dense(10, activation='relu', kernel_initializer='he_normal'))\n",
    "nn.add(Dense(1, activation='sigmoid'))\n",
    "# compile the model\n",
    "nn.compile(optimizer='adam', loss='binary_crossentropy', metrics=['accuracy'])\n",
    "# fit the model\n",
    "nn.fit(XtrP, Ytr, epochs=200, batch_size=128, verbose=2)"
   ]
  },
  {
   "cell_type": "code",
   "execution_count": 23,
   "metadata": {},
   "outputs": [
    {
     "name": "stderr",
     "output_type": "stream",
     "text": [
      "c:\\users\\sshim\\appdata\\local\\programs\\python\\python37\\lib\\site-packages\\tensorflow\\python\\keras\\engine\\sequential.py:425: UserWarning: `model.predict_proba()` is deprecated and will be removed after 2021-01-01. Please use `model.predict()` instead.\n",
      "  warnings.warn('`model.predict_proba()` is deprecated and '\n"
     ]
    },
    {
     "name": "stdout",
     "output_type": "stream",
     "text": [
      "Training AUC: 0.8480251247055066\n"
     ]
    },
    {
     "name": "stderr",
     "output_type": "stream",
     "text": [
      "c:\\users\\sshim\\appdata\\local\\programs\\python\\python37\\lib\\site-packages\\tensorflow\\python\\keras\\engine\\sequential.py:425: UserWarning: `model.predict_proba()` is deprecated and will be removed after 2021-01-01. Please use `model.predict()` instead.\n",
      "  warnings.warn('`model.predict_proba()` is deprecated and '\n"
     ]
    },
    {
     "name": "stdout",
     "output_type": "stream",
     "text": [
      "Validation AUC: 0.7535464322575043\n"
     ]
    }
   ],
   "source": [
    "print(\"Training AUC:\", metrics.roc_auc_score(Ytr, nn.predict_proba(XtrP)))\n",
    "print(\"Validation AUC:\", metrics.roc_auc_score(Yva, nn.predict_proba(XvaP)))"
   ]
  },
  {
   "cell_type": "markdown",
   "metadata": {
    "cell_id": "00032-683a6892-0f7b-4efb-ba1f-ce2a6b7b760a",
    "deepnote_cell_type": "markdown",
    "tags": []
   },
   "source": [
    "## Ensemble"
   ]
  },
  {
   "cell_type": "code",
   "execution_count": 40,
   "metadata": {
    "cell_id": "00030-ec623fcb-2cbb-4036-a14c-43b35b581168",
    "deepnote_cell_type": "code",
    "deepnote_to_be_reexecuted": false,
    "execution_millis": 34313,
    "execution_start": 1615594107141,
    "source_hash": "5b397ed1",
    "tags": []
   },
   "outputs": [
    {
     "name": "stderr",
     "output_type": "stream",
     "text": [
      "c:\\users\\sshim\\appdata\\local\\programs\\python\\python37\\lib\\site-packages\\tensorflow\\python\\keras\\engine\\sequential.py:425: UserWarning: `model.predict_proba()` is deprecated and will be removed after 2021-01-01. Please use `model.predict()` instead.\n",
      "  warnings.warn('`model.predict_proba()` is deprecated and '\n"
     ]
    }
   ],
   "source": [
    "abc_pred = abc.predict_proba(XvaP)[:,1]\n",
    "rf_pred = rf.predict_proba(XvaP)[:,1]\n",
    "neigh_pred = neigh.predict_proba(XvaKNN)[:,1]\n",
    "nn_pred = nn.predict_proba(XvaP)\n",
    "\n",
    "XvaStack = np.column_stack((abc_pred, rf_pred, neigh_pred, nn_pred))"
   ]
  },
  {
   "cell_type": "code",
   "execution_count": 35,
   "metadata": {},
   "outputs": [
    {
     "name": "stdout",
     "output_type": "stream",
     "text": [
      "Validation AUC lgbm: 0.7982248307730657\n",
      "Validation AUC rf: 0.7871700963858093\n",
      "Validation AUC neigh: 0.7353135074128989\n",
      "Validation AUC nn: 0.7535464322575043\n",
      "Validation AUC: 0.7999517194570875\n"
     ]
    }
   ],
   "source": [
    "print(\"Validation AUC lgbm:\", metrics.roc_auc_score(Yva, lgbm_pred))\n",
    "print(\"Validation AUC rf:\", metrics.roc_auc_score(Yva, rf_pred))\n",
    "print(\"Validation AUC neigh:\", metrics.roc_auc_score(Yva, neigh_pred))\n",
    "print(\"Validation AUC nn:\", metrics.roc_auc_score(Yva, nn_pred))\n",
    "print(\"Validation AUC:\", metrics.roc_auc_score(Yva, stacked.predict_proba(XvaStack)[:,1]))"
   ]
  },
  {
   "cell_type": "code",
   "execution_count": 29,
   "metadata": {},
   "outputs": [
    {
     "name": "stderr",
     "output_type": "stream",
     "text": [
      "c:\\users\\sshim\\appdata\\local\\programs\\python\\python37\\lib\\site-packages\\tensorflow\\python\\keras\\engine\\sequential.py:425: UserWarning: `model.predict_proba()` is deprecated and will be removed after 2021-01-01. Please use `model.predict()` instead.\n",
      "  warnings.warn('`model.predict_proba()` is deprecated and '\n"
     ]
    }
   ],
   "source": [
    "lgbm_pred = lgbm.predict_proba(XvaP)[:,1]\n",
    "rf_pred = rf.predict_proba(XvaP)[:,1]\n",
    "neigh_pred = neigh.predict_proba(XvaKNN)[:,1]\n",
    "nn_pred = nn.predict_proba(XvaP)"
   ]
  },
  {
   "cell_type": "code",
   "execution_count": 33,
   "metadata": {},
   "outputs": [
    {
     "name": "stdout",
     "output_type": "stream",
     "text": [
      "0.1 Validation AUC: 0.7994593444539362\n",
      "1 Validation AUC: 0.7998947435157693\n",
      "10 Validation AUC: 0.7999470616021406\n",
      "100 Validation AUC: 0.7999513221045328\n",
      "1000 Validation AUC: 0.7999516642692327\n",
      "10000 Validation AUC: 0.7999517194570874\n",
      "1000000 Validation AUC: 0.7999517194570875\n"
     ]
    }
   ],
   "source": [
    "XvaStack = np.column_stack((lgbm_pred, rf_pred, neigh_pred, nn_pred))\n",
    "# for c in [.1, 1, 10, 100, 1000, 10000, 1000000]:\n",
    "#     stacked = LogisticRegression(max_iter=1000, C=c)\n",
    "#     stacked.fit(XvaStack, Yva)\n",
    "#     print(c, \"Validation AUC:\", metrics.roc_auc_score(Yva, stacked.predict_proba(XvaStack)[:,1]))"
   ]
  },
  {
   "cell_type": "code",
   "execution_count": 41,
   "metadata": {},
   "outputs": [
    {
     "data": {
      "text/plain": [
       "LogisticRegression(C=100000, max_iter=1000)"
      ]
     },
     "execution_count": 41,
     "metadata": {},
     "output_type": "execute_result"
    }
   ],
   "source": [
    "stacked = LogisticRegression(max_iter=1000, C=100000)\n",
    "stacked.fit(XvaStack, Yva)"
   ]
  },
  {
   "cell_type": "markdown",
   "metadata": {
    "cell_id": "00033-2ea4f7bc-1b27-4f0b-8c3d-df6171e7903e",
    "deepnote_cell_type": "markdown",
    "tags": []
   },
   "source": [
    "## Submission"
   ]
  },
  {
   "cell_type": "code",
   "execution_count": 42,
   "metadata": {
    "cell_id": "00033-7e09bc2d-ef9f-4823-b8d0-f29a2cf8c661",
    "deepnote_cell_type": "code",
    "tags": []
   },
   "outputs": [],
   "source": [
    "Xte = np.genfromtxt('X_test.txt', delimiter=None)\n",
    "XteP, params = ml.rescale(Xte)\n",
    "XteKNN = XteP[:, 0]\n",
    "for i in range(1, 14):\n",
    "    if i not in [3, 13]:\n",
    "        XteKNN = np.column_stack((XteKNN, XteP[:,i]))\n",
    "XteKNN = np.column_stack((XteKNN, np.multiply(-XteP[:,3], XteP[:,13])))"
   ]
  },
  {
   "cell_type": "code",
   "execution_count": 43,
   "metadata": {
    "cell_id": "00034-a13f279d-6702-47ea-98d4-37bc1fc7cd48",
    "deepnote_cell_type": "code",
    "tags": []
   },
   "outputs": [
    {
     "name": "stderr",
     "output_type": "stream",
     "text": [
      "c:\\users\\sshim\\appdata\\local\\programs\\python\\python37\\lib\\site-packages\\tensorflow\\python\\keras\\engine\\sequential.py:425: UserWarning: `model.predict_proba()` is deprecated and will be removed after 2021-01-01. Please use `model.predict()` instead.\n",
      "  warnings.warn('`model.predict_proba()` is deprecated and '\n"
     ]
    }
   ],
   "source": [
    "lgbm_pred = lgbm.predict_proba(XteP)[:,1]\n",
    "rf_pred = rf.predict_proba(XteP)[:,1]\n",
    "neigh_pred = neigh.predict_proba(XteKNN)[:,1]\n",
    "nn_pred = nn.predict_proba(XteP)\n",
    "\n",
    "XteStack = np.column_stack((lgbm_pred, rf_pred, neigh_pred, nn_pred))"
   ]
  },
  {
   "cell_type": "code",
   "execution_count": 44,
   "metadata": {},
   "outputs": [],
   "source": [
    "Yte = stacked.predict_proba(XteStack)[:,1]\n",
    "Y_sub = np.vstack([np.arange(Xte.shape[0]), Yte]).T\n",
    "np.savetxt('Y_submit.txt',Y_sub,'%d,%.10f',header='ID,Prob1',comments='',delimiter=',')"
   ]
  },
  {
   "cell_type": "code",
   "execution_count": 52,
   "metadata": {},
   "outputs": [
    {
     "ename": "AttributeError",
     "evalue": "'StandardScaler' object has no attribute 'shape'",
     "output_type": "error",
     "traceback": [
      "\u001b[1;31m---------------------------------------------------------------------------\u001b[0m",
      "\u001b[1;31mAttributeError\u001b[0m                            Traceback (most recent call last)",
      "\u001b[1;32m<ipython-input-52-0d2dd0098d59>\u001b[0m in \u001b[0;36m<module>\u001b[1;34m\u001b[0m\n\u001b[1;32m----> 1\u001b[1;33m \u001b[0mXtrP\u001b[0m\u001b[1;33m.\u001b[0m\u001b[0mshape\u001b[0m\u001b[1;33m\u001b[0m\u001b[1;33m\u001b[0m\u001b[0m\n\u001b[0m",
      "\u001b[1;31mAttributeError\u001b[0m: 'StandardScaler' object has no attribute 'shape'"
     ]
    }
   ],
   "source": [
    "XtrP.shape"
   ]
  },
  {
   "cell_type": "markdown",
   "metadata": {
    "created_in_deepnote_cell": true,
    "deepnote_cell_type": "markdown",
    "tags": []
   },
   "source": [
    "<a style='text-decoration:none;line-height:16px;display:flex;color:#5B5B62;padding:10px;justify-content:end;' href='https://deepnote.com?utm_source=created-in-deepnote-cell&projectId=0d2657fc-2bca-4e81-a161-275a5e7f5cf6' target=\"_blank\">\n",
    "<img style='display:inline;max-height:16px;margin:0px;margin-right:7.5px;' src='data:image/svg+xml;base64,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' > </img>\n",
    "Created in <span style='font-weight:600;margin-left:4px;'>Deepnote</span></a>"
   ]
  }
 ],
 "metadata": {
  "deepnote": {
   "is_reactive": false
  },
  "deepnoteSessionId": "dea8a0f5-35e3-4468-94eb-804ff5fc7baa",
  "deepnote_execution_queue": [],
  "deepnote_notebook_id": "0f460af1-1872-4aa4-804e-36716dbf15fd",
  "kernelspec": {
   "display_name": "Python 3",
   "language": "python",
   "name": "python3"
  },
  "language_info": {
   "codemirror_mode": {
    "name": "ipython",
    "version": 3
   },
   "file_extension": ".py",
   "mimetype": "text/x-python",
   "name": "python",
   "nbconvert_exporter": "python",
   "pygments_lexer": "ipython3",
   "version": "3.7.4"
  }
 },
 "nbformat": 4,
 "nbformat_minor": 2
}
